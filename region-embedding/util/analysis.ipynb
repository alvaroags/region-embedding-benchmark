{
 "cells": [
  {
   "cell_type": "code",
   "execution_count": 1,
   "metadata": {},
   "outputs": [],
   "source": [
    "import pandas as pd\n",
    "import matplotlib.pyplot as plt\n",
    "import seaborn as sns"
   ]
  },
  {
   "cell_type": "code",
   "execution_count": 2,
   "metadata": {},
   "outputs": [],
   "source": [
    "buildings_csv = pd.read_csv('./data/chicago-buildings.csv.gz')\n",
    "pois_csv = pd.read_csv('./data/chicago-pois.csv.gz')\n",
    "streets_complete_csv = pd.read_csv('./data/chicago-streets-complete.csv.gz')"
   ]
  },
  {
   "cell_type": "code",
   "execution_count": 16,
   "metadata": {},
   "outputs": [
    {
     "name": "stdout",
     "output_type": "stream",
     "text": [
      "Total de registros em POIs: 51297\n",
      "\n",
      "Contagem de registros por categoria:\n",
      "category\n",
      "amenity     30182\n",
      "leisure      8694\n",
      "shop         4876\n",
      "sport        3496\n",
      "aeroway      1786\n",
      "tourism      1207\n",
      "office        744\n",
      "historic      312\n",
      "Name: count, dtype: int64\n",
      "\n",
      "Contagem de registros por fclass:\n",
      "fclass\n",
      "parking            7553\n",
      "parking_space      5003\n",
      "garden             3049\n",
      "pitch              2335\n",
      "restaurant         2290\n",
      "                   ... \n",
      "futsal                1\n",
      "casino                1\n",
      "give_box              1\n",
      "ranger_station        1\n",
      "energy_supplier       1\n",
      "Name: count, Length: 359, dtype: int64\n"
     ]
    }
   ],
   "source": [
    "# Contagem total de registros\n",
    "pois_unique = pois_csv.drop_duplicates()\n",
    "total_registros = pois_unique.shape[0]\n",
    "print(f\"Total de registros em POIs: {total_registros}\")\n",
    "\n",
    "# Contagem dos registros por categoria\n",
    "contagem_categorias = pois_unique['category'].value_counts()\n",
    "print(\"\\nContagem de registros por categoria:\")\n",
    "print(contagem_categorias)\n",
    "\n",
    "# Contagem dos registros por fclass\n",
    "contagem_fclass = pois_unique['fclass'].value_counts()\n",
    "print(\"\\nContagem de registros por fclass:\")\n",
    "print(contagem_fclass)\n"
   ]
  },
  {
   "cell_type": "code",
   "execution_count": 17,
   "metadata": {},
   "outputs": [
    {
     "name": "stdout",
     "output_type": "stream",
     "text": [
      "Total de registros únicos em buildings: 820935\n",
      "\n",
      "Contagem de registros únicos por tipo de building:\n",
      "building\n",
      "yes            785612\n",
      "apartments       6990\n",
      "garage           5850\n",
      "residential      5471\n",
      "retail           3095\n",
      "                ...  \n",
      "foundation          1\n",
      "toilets             1\n",
      "bus_station         1\n",
      "bandstand           1\n",
      "shelter             1\n",
      "Name: count, Length: 104, dtype: int64\n"
     ]
    }
   ],
   "source": [
    "# Remover duplicados\n",
    "buildings_df_unique = buildings_csv.drop_duplicates()\n",
    "\n",
    "# Contagem total de registros únicos\n",
    "total_registros_unicos = buildings_df_unique.shape[0]\n",
    "print(f\"Total de registros únicos em buildings: {total_registros_unicos}\")\n",
    "\n",
    "# Contagem dos registros únicos por categoria\n",
    "contagem_building_unica = buildings_df_unique['building'].value_counts()\n",
    "print(\"\\nContagem de registros únicos por tipo de building:\")\n",
    "print(contagem_building_unica)\n"
   ]
  },
  {
   "cell_type": "code",
   "execution_count": 19,
   "metadata": {},
   "outputs": [
    {
     "name": "stdout",
     "output_type": "stream",
     "text": [
      "Total de registros únicos em streets: 33856\n",
      "\n",
      "Contagem de registros únicos por tipo de streets:\n",
      "highway\n",
      "residential     15522\n",
      "secondary       10817\n",
      "tertiary         3885\n",
      "primary          1963\n",
      "motorway          877\n",
      "unclassified      546\n",
      "trunk             246\n",
      "Name: count, dtype: int64\n"
     ]
    }
   ],
   "source": [
    "streets_complete_csv\n",
    "\n",
    "streets_unique = streets_complete_csv.drop_duplicates()\n",
    "\n",
    "total_registros_streets  = streets_unique.shape[0]\n",
    "print(f\"Total de registros únicos em streets: {total_registros_streets}\")\n",
    "\n",
    "# Contagem dos registros únicos por categoria\n",
    "contagem_streets_unica = streets_unique['highway'].value_counts()\n",
    "print(\"\\nContagem de registros únicos por tipo de streets:\")\n",
    "print(contagem_streets_unica)"
   ]
  }
 ],
 "metadata": {
  "kernelspec": {
   "display_name": "Python 3",
   "language": "python",
   "name": "python3"
  },
  "language_info": {
   "codemirror_mode": {
    "name": "ipython",
    "version": 3
   },
   "file_extension": ".py",
   "mimetype": "text/x-python",
   "name": "python",
   "nbconvert_exporter": "python",
   "pygments_lexer": "ipython3",
   "version": "3.11.9"
  }
 },
 "nbformat": 4,
 "nbformat_minor": 2
}
